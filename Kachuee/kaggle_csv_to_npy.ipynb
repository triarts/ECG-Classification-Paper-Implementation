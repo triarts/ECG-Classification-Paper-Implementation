{
 "cells": [
  {
   "cell_type": "code",
   "execution_count": null,
   "metadata": {},
   "outputs": [],
   "source": [
    "## convert csv to numpy (npy)\n",
    "import pandas as pd\n",
    "import numpy as np\n",
    "\n",
    "def savebeats_npy_direct(beats_final,savePathName):\n",
    "    savedata = beats_final\n",
    "    outfn = savePathName\n",
    "    print('====> Generating ', outfn)\n",
    "    np.save(outfn, savedata)\n",
    "\n",
    "df_train = pd.read_csv(\"kaggle dataset\\mitbih_train.csv\", header=None)\n",
    "df_train = df_train.sample(frac=1)\n",
    "df_test = pd.read_csv(\"kaggle dataset\\mitbih_test.csv\", header=None)\n",
    "\n",
    "Y = np.array(df_train[187].values).astype(np.int8)\n",
    "X = np.array(df_train[list(range(187))].values)[..., np.newaxis]\n",
    "\n",
    "Y_test = np.array(df_test[187].values).astype(np.int8)\n",
    "X_test = np.array(df_test[list(range(187))].values)[..., np.newaxis]\n",
    "\n",
    "\n",
    "print(X.shape)\n",
    "print(Y.shape)\n",
    "\n",
    "print(X_test.shape)\n",
    "print(Y_test.shape)\n",
    "\n",
    "X = X.reshape(X.shape[0],X.shape[1])\n",
    "X_test = X_test.reshape(X_test.shape[0],X_test.shape[1])\n",
    "\n",
    "savebeats_npy_direct(X,\"kaggle dataset/x_train.npy\")\n",
    "savebeats_npy_direct(Y,\"kaggle dataset/y_train.npy\")\n",
    "\n",
    "savebeats_npy_direct(X_test,\"kaggle dataset/x_test.npy\")\n",
    "savebeats_npy_direct(Y_test,\"kaggle dataset/y_test.npy\")"
   ]
  }
 ],
 "metadata": {
  "kernelspec": {
   "display_name": "Python 3",
   "language": "python",
   "name": "python3"
  },
  "language_info": {
   "codemirror_mode": {
    "name": "ipython",
    "version": 3
   },
   "file_extension": ".py",
   "mimetype": "text/x-python",
   "name": "python",
   "nbconvert_exporter": "python",
   "pygments_lexer": "ipython3",
   "version": "3.7.9"
  }
 },
 "nbformat": 4,
 "nbformat_minor": 4
}
